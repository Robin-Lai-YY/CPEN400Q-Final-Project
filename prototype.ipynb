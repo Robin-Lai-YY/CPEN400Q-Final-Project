{
 "cells": [
  {
   "cell_type": "markdown",
   "id": "4b41410a-6f5d-4896-9944-e202fd98bbf2",
   "metadata": {},
   "source": [
    "# Experimental Quantum Generative Adversarial Networks for Image Generation\n",
    "\n",
    "Huang et al. describe two techniques to implement quantum generative adversarial networks on contemporary, NISQ quantum computers.  One technique (patch) optimizes for the case where the number of feature dimensions exceeds the number of dimensions in the quantum computer's state space, and another (batch) increases the amount of parallelism during training and generation."
   ]
  },
  {
   "cell_type": "code",
   "execution_count": null,
   "id": "e074c283-562d-4012-b746-9692afce7c45",
   "metadata": {
    "tags": []
   },
   "outputs": [],
   "source": [
    "import pennylane as qml\n",
    "import numpy as np\n",
    "import torch as tr\n",
    "from torch import tensor, nn, utils, optim\n",
    "from torchvision import datasets, transforms\n",
    "from math import pi\n",
    "import matplotlib.pyplot as plt\n",
    "from rich.progress import track\n",
    "\n",
    "torch_dev = \"cpu\""
   ]
  },
  {
   "cell_type": "markdown",
   "id": "94cadafd-f67a-4af6-be15-d49876efc7ae",
   "metadata": {
    "tags": []
   },
   "source": [
    "## Dataset\n",
    "\n",
    "We use the MNIST handwritten digit database to replicate the results in the paper."
   ]
  },
  {
   "cell_type": "code",
   "execution_count": null,
   "id": "20b9c7b6-e3b4-44a0-ad03-0f9c5895f062",
   "metadata": {
    "tags": []
   },
   "outputs": [],
   "source": [
    "# Filter the dataset to include on example with this label\n",
    "class_filter = 0\n",
    "# Resize the 28x28 MNIST digits down to this siz# Filter the dataset to include on example with this label\n",
    "class_filter = 0\n",
    "# Resize the 28x28 MNIST digits down to this size\n",
    "image_size = 8"
   ]
  },
  {
   "cell_type": "code",
   "execution_count": null,
   "id": "b55deb77-b788-4fdf-b309-035d8a123cf6",
   "metadata": {
    "tags": []
   },
   "outputs": [],
   "source": [
    "data_transform = transforms.Compose([\n",
    "    transforms.Resize((image_size, image_size)),\n",
    "    transforms.ToTensor(),\n",
    "    transforms.Normalize(0.5, 0.5)\n",
    "])\n",
    "dataset = datasets.MNIST(\n",
    "    'data', train=True, download=True, transform=data_transform\n",
    ")\n",
    "dataset_filtered = utils.data.Subset(\n",
    "    dataset, np.nonzero(dataset.targets == class_filter).view(-1)\n",
    ")\n",
    "data_loader = utils.data.DataLoader(dataset_filtered, batch_size=1, num_workers=16)"
   ]
  },
  {
   "cell_type": "markdown",
   "id": "9de28835-ec2c-4368-9545-07b6494ddba9",
   "metadata": {
    "tags": []
   },
   "source": [
    "## Patch GAN\n",
    "\n",
    "The patch GAN setup employs a quantum generator and a classical discriminator.\n",
    "\n",
    "[An article](https://pennylane.ai/qml/demos/tutorial_quantum_gans.html) by James Ellis for PennyLane contains an implementation of this strategy, and this code is the almost verbatim from that article."
   ]
  },
  {
   "cell_type": "code",
   "execution_count": null,
   "id": "973d921e-aa37-4f20-969b-ef12ebc528b4",
   "metadata": {
    "tags": []
   },
   "outputs": [],
   "source": [
    "qubits = 5\n",
    "qubits_ancillary = 1\n",
    "gen_depth = 6\n",
    "\n",
    "patch_size = (2, 8)\n",
    "assert 2**(qubits - qubits_ancillary) == patch_size[0]*patch_size[1]\n",
    "assert image_size % patch_size[0] == 0 and image_size % patch_size[1] == 0\n",
    "patch_num = (image_size // patch_size[0], image_size // patch_size[1])\n",
    "\n",
    "train_iters = 500\n",
    "\n",
    "gen_lr = 0.3\n",
    "dis_lr = 0.01"
   ]
  },
  {
   "cell_type": "code",
   "execution_count": null,
   "id": "f8e9660b-026e-4557-b481-830909f212e4",
   "metadata": {
    "tags": []
   },
   "outputs": [],
   "source": [
    "class Discriminator(nn.Module):\n",
    "    def __init__(self):\n",
    "        super().__init__()\n",
    "        self.stack = nn.Sequential(\n",
    "            nn.Flatten(),\n",
    "            nn.Linear(image_size*image_size, 64),\n",
    "            nn.ReLU(),\n",
    "            nn.Linear(64, 16),\n",
    "            nn.ReLU(),\n",
    "            nn.Linear(16, 1),\n",
    "            nn.Sigmoid(),\n",
    "        )\n",
    "    \n",
    "    def forward(self, x):\n",
    "        return self.stack(x)"
   ]
  },
  {
   "cell_type": "code",
   "execution_count": null,
   "id": "9aba57b4-d7ed-4ab7-a7cf-0cdf6fd0304b",
   "metadata": {
    "tags": []
   },
   "outputs": [],
   "source": [
    "quantum_dev = qml.device('lightning.qubit', wires=qubits)"
   ]
  },
  {
   "cell_type": "code",
   "execution_count": null,
   "id": "bc2fdc24-9702-46cf-9b25-6757978bf1d6",
   "metadata": {
    "tags": []
   },
   "outputs": [],
   "source": [
    "@qml.qnode(quantum_dev, interface='torch', diff_method='parameter-shift')\n",
    "def gen_circuit(noise, weights):\n",
    "    for i in range(qubits):\n",
    "        qml.RY(noise[i], wires=i)\n",
    "    for i in range(gen_depth):\n",
    "        for y in range(qubits):\n",
    "            qml.RY(weights[i,y], wires=y)\n",
    "        for y in range(qubits-1):\n",
    "            qml.CZ(wires=[y, y+1])\n",
    "    return qml.probs(wires=list(range(qubits)))"
   ]
  },
  {
   "cell_type": "code",
   "execution_count": null,
   "id": "fa94e434-580c-4f5e-8ca2-e54e2b006165",
   "metadata": {
    "tags": []
   },
   "outputs": [],
   "source": [
    "def partial_measure(noise, weights):\n",
    "    probs = gen_circuit(noise, weights)\n",
    "    probs_given_0 = probs[:2**(qubits-qubits_ancillary)]\n",
    "    probs_given_0 /= tr.sum(probs)\n",
    "    probs_given_0 = probs_given_0 / tr.max(probs_given_0)\n",
    "    return probs_given_0.float()"
   ]
  },
  {
   "cell_type": "code",
   "execution_count": null,
   "id": "8d47cd99-8b7d-41f5-84c4-c5efb7ac0ee4",
   "metadata": {
    "tags": []
   },
   "outputs": [],
   "source": [
    "class PatchGenerator(nn.Module):\n",
    "    def __init__(self):\n",
    "        super().__init__()\n",
    "        self.weights = nn.ParameterList([\n",
    "            nn.ParameterList([\n",
    "                nn.Parameter(tr.rand(gen_depth, qubits), requires_grad=True)\n",
    "                for _ in range(patch_num[1])\n",
    "            ])\n",
    "            for _ in range(patch_num[0])\n",
    "        ])\n",
    "        \n",
    "    def forward(self, x):\n",
    "        out = tr.zeros((0, image_size), device=torch_dev)\n",
    "        for wr in self.weights:\n",
    "            row = tr.zeros((patch_size[0], 0), device=torch_dev)\n",
    "            for w in wr:\n",
    "                y = partial_measure(x, w).reshape(patch_size)\n",
    "                row = tr.cat((row, y), dim=1)\n",
    "            out = tr.cat((out, row), dim=0)\n",
    "        return out.reshape(1, image_size, image_size)"
   ]
  },
  {
   "cell_type": "code",
   "execution_count": null,
   "id": "a8439b80-75af-49c5-9931-a0725088bce1",
   "metadata": {
    "tags": []
   },
   "outputs": [],
   "source": [
    "gen_model = PatchGenerator().to(torch_dev)\n",
    "dis_model = Discriminator().to(torch_dev)\n",
    "\n",
    "loss_fn = nn.BCELoss()\n",
    "gen_optimizer = optim.SGD(gen_model.parameters(), lr=gen_lr)\n",
    "dis_optimizer = optim.SGD(dis_model.parameters(), lr=dis_lr)\n",
    "\n",
    "real_labels = tr.full((1,), 1.0, dtype=tr.float, device=torch_dev)\n",
    "fake_labels = tr.full((1,), 0.0, dtype=tr.float, device=torch_dev)"
   ]
  },
  {
   "cell_type": "code",
   "execution_count": 48,
   "id": "2e640ddc-f76f-4715-a30a-9d7b1aa94936",
   "metadata": {
    "tags": []
   },
   "outputs": [],
   "source": [
    "it = iter(data_loader)\n",
    "for i, _ in zip(range(1000),it):\n",
    "    pass"
   ]
  },
  {
   "cell_type": "code",
   "execution_count": 49,
   "id": "e1f6f366-0a2a-46c3-b23a-26241c9889d4",
   "metadata": {
    "tags": []
   },
   "outputs": [
    {
     "data": {
      "application/vnd.jupyter.widget-view+json": {
       "model_id": "f2b9c20a72494aaa85579d44c02a4e3c",
       "version_major": 2,
       "version_minor": 0
      },
      "text/plain": [
       "Output()"
      ]
     },
     "metadata": {},
     "output_type": "display_data"
    },
    {
     "data": {
      "text/html": [
       "<pre style=\"white-space:pre;overflow-x:auto;line-height:normal;font-family:Menlo,'DejaVu Sans Mono',consolas,'Courier New',monospace\">gen: 4.3892 dis: 0.0138\n",
       "</pre>\n"
      ],
      "text/plain": [
       "gen: 4.3892 dis: 0.0138\n"
      ]
     },
     "metadata": {},
     "output_type": "display_data"
    },
    {
     "data": {
      "text/html": [
       "<pre style=\"white-space:pre;overflow-x:auto;line-height:normal;font-family:Menlo,'DejaVu Sans Mono',consolas,'Courier New',monospace\">gen: 4.5320 dis: 0.0120\n",
       "</pre>\n"
      ],
      "text/plain": [
       "gen: 4.5320 dis: 0.0120\n"
      ]
     },
     "metadata": {},
     "output_type": "display_data"
    },
    {
     "data": {
      "text/html": [
       "<pre style=\"white-space:pre;overflow-x:auto;line-height:normal;font-family:Menlo,'DejaVu Sans Mono',consolas,'Courier New',monospace\">gen: 4.5050 dis: 0.0127\n",
       "</pre>\n"
      ],
      "text/plain": [
       "gen: 4.5050 dis: 0.0127\n"
      ]
     },
     "metadata": {},
     "output_type": "display_data"
    },
    {
     "data": {
      "text/html": [
       "<pre style=\"white-space:pre;overflow-x:auto;line-height:normal;font-family:Menlo,'DejaVu Sans Mono',consolas,'Courier New',monospace\">gen: 4.4792 dis: 0.0121\n",
       "</pre>\n"
      ],
      "text/plain": [
       "gen: 4.4792 dis: 0.0121\n"
      ]
     },
     "metadata": {},
     "output_type": "display_data"
    },
    {
     "data": {
      "text/html": [
       "<pre style=\"white-space:pre;overflow-x:auto;line-height:normal;font-family:Menlo,'DejaVu Sans Mono',consolas,'Courier New',monospace\">gen: 4.6092 dis: 0.0111\n",
       "</pre>\n"
      ],
      "text/plain": [
       "gen: 4.6092 dis: 0.0111\n"
      ]
     },
     "metadata": {},
     "output_type": "display_data"
    },
    {
     "data": {
      "text/html": [
       "<pre style=\"white-space:pre;overflow-x:auto;line-height:normal;font-family:Menlo,'DejaVu Sans Mono',consolas,'Courier New',monospace\">gen: 4.5758 dis: 0.0111\n",
       "</pre>\n"
      ],
      "text/plain": [
       "gen: 4.5758 dis: 0.0111\n"
      ]
     },
     "metadata": {},
     "output_type": "display_data"
    },
    {
     "data": {
      "text/html": [
       "<pre style=\"white-space:pre;overflow-x:auto;line-height:normal;font-family:Menlo,'DejaVu Sans Mono',consolas,'Courier New',monospace\">gen: 4.5736 dis: 0.0112\n",
       "</pre>\n"
      ],
      "text/plain": [
       "gen: 4.5736 dis: 0.0112\n"
      ]
     },
     "metadata": {},
     "output_type": "display_data"
    },
    {
     "data": {
      "text/html": [
       "<pre style=\"white-space:pre;overflow-x:auto;line-height:normal;font-family:Menlo,'DejaVu Sans Mono',consolas,'Courier New',monospace\">gen: 4.5752 dis: 0.0109\n",
       "</pre>\n"
      ],
      "text/plain": [
       "gen: 4.5752 dis: 0.0109\n"
      ]
     },
     "metadata": {},
     "output_type": "display_data"
    },
    {
     "data": {
      "text/html": [
       "<pre style=\"white-space:pre;overflow-x:auto;line-height:normal;font-family:Menlo,'DejaVu Sans Mono',consolas,'Courier New',monospace\">gen: 4.8076 dis: 0.0086\n",
       "</pre>\n"
      ],
      "text/plain": [
       "gen: 4.8076 dis: 0.0086\n"
      ]
     },
     "metadata": {},
     "output_type": "display_data"
    },
    {
     "data": {
      "text/html": [
       "<pre style=\"white-space:pre;overflow-x:auto;line-height:normal;font-family:Menlo,'DejaVu Sans Mono',consolas,'Courier New',monospace\">gen: 4.6153 dis: 0.0127\n",
       "</pre>\n"
      ],
      "text/plain": [
       "gen: 4.6153 dis: 0.0127\n"
      ]
     },
     "metadata": {},
     "output_type": "display_data"
    },
    {
     "data": {
      "text/html": [
       "<pre style=\"white-space:pre;overflow-x:auto;line-height:normal;font-family:Menlo,'DejaVu Sans Mono',consolas,'Courier New',monospace\"></pre>\n"
      ],
      "text/plain": []
     },
     "metadata": {},
     "output_type": "display_data"
    },
    {
     "data": {
      "text/html": [
       "<pre style=\"white-space:pre;overflow-x:auto;line-height:normal;font-family:Menlo,'DejaVu Sans Mono',consolas,'Courier New',monospace\">\n",
       "</pre>\n"
      ],
      "text/plain": [
       "\n"
      ]
     },
     "metadata": {},
     "output_type": "display_data"
    }
   ],
   "source": [
    "for i, (real_data, _) in zip(track(range(100)), it):\n",
    "    real_data =  real_data.reshape(1, image_size, image_size).to(torch_dev)\n",
    "\n",
    "    noise = tr.rand(qubits, device=torch_dev) * pi/2\n",
    "    fake_data = gen_model(noise)\n",
    "\n",
    "    dis_model.zero_grad()\n",
    "    out_real = dis_model(real_data).view(-1)\n",
    "    out_fake = dis_model(fake_data.detach()).view(-1)\n",
    "    dis_err_real = loss_fn(out_real, real_labels)\n",
    "    dis_err_fake = loss_fn(out_fake, fake_labels)\n",
    "    dis_err_real.backward()\n",
    "    dis_err_fake.backward()\n",
    "    dis_err = dis_err_real + dis_err_fake\n",
    "    dis_optimizer.step()\n",
    "\n",
    "    gen_model.zero_grad()\n",
    "    out_fake = dis_model(fake_data).view(-1)\n",
    "    gen_err = loss_fn(out_fake, real_labels)\n",
    "    gen_err.backward()\n",
    "    gen_optimizer.step()\n",
    "    \n",
    "    if i % 10 == 0:\n",
    "        print(f'gen: {gen_err:5.4f} dis: {dis_err:5.4f}')"
   ]
  },
  {
   "cell_type": "code",
   "execution_count": 50,
   "id": "1bf8b45a-8fc0-402f-8e2d-7c37d570124e",
   "metadata": {
    "tags": []
   },
   "outputs": [
    {
     "data": {
      "text/plain": [
       "<matplotlib.image.AxesImage at 0x7ff5f86b7a30>"
      ]
     },
     "execution_count": 50,
     "metadata": {},
     "output_type": "execute_result"
    },
    {
     "data": {
      "image/png": "[encoded data removed]",
      "text/plain": [
       "<Figure size 640x480 with 1 Axes>"
      ]
     },
     "metadata": {},
     "output_type": "display_data"
    }
   ],
   "source": [
    "noise = tr.rand(qubits, device=torch_dev) * pi/2\n",
    "plt.imshow(gen_model(noise)[0].cpu().detach())"
   ]
  },
  {
   "cell_type": "code",
   "execution_count": null,
   "id": "0cd67569-c759-46ec-9fe8-5435fd4a48de",
   "metadata": {},
   "outputs": [],
   "source": []
  }
 ],
 "metadata": {
  "kernelspec": {
   "display_name": "Python 3 (ipykernel)",
   "language": "python",
   "name": "python3"
  },
  "language_info": {
   "codemirror_mode": {
    "name": "ipython",
    "version": 3
   },
   "file_extension": ".py",
   "mimetype": "text/x-python",
   "name": "python",
   "nbconvert_exporter": "python",
   "pygments_lexer": "ipython3",
   "version": "3.10.10"
  }
 },
 "nbformat": 4,
 "nbformat_minor": 5
}
