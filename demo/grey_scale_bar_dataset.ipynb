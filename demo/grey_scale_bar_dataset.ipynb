{
 "cells": [
  {
   "cell_type": "code",
   "execution_count": null,
   "metadata": {},
   "outputs": [],
   "source": [
    "%matplotlib widget \n",
    "import torch\n",
    "import numpy as np\n",
    "from matplotlib import pyplot as plt"
   ]
  },
  {
   "cell_type": "code",
   "execution_count": null,
   "metadata": {},
   "outputs": [],
   "source": [
    "class GrayScaleBarImageDataset(torch.utils.data.Dataset):\n",
    "\n",
    "    def __init__(self, size=1000, m=2, low=0.4, high=0.6):\n",
    "        self.m = m\n",
    "        self.M = m * m\n",
    "        self.data = np.zeros((size, m, m), dtype=np.float64)\n",
    "        \n",
    "        # What's described in the text\n",
    "        # self.data[:,:,0] = np.random.uniform(low=low, high=high, size=(size, m))\n",
    "        # self.data[:,:,1] = 1 - self.data[:,:,0]\n",
    "\n",
    "        # What's shown in the examples\n",
    "        self.data[:,0,0] = np.random.uniform(low=low, high=high, size=(size))\n",
    "        self.data[:,1,0] = 1 - self.data[:,0,0]\n",
    "\n",
    "    def __len__(self):\n",
    "        return self.data.shape[0]\n",
    "\n",
    "    def __getitem__(self, index):\n",
    "        return self.data[index]"
   ]
  },
  {
   "cell_type": "code",
   "execution_count": null,
   "metadata": {},
   "outputs": [],
   "source": [
    "ds = GrayScaleBarImageDataset(m=2)\n",
    "print(len(ds))\n",
    "print(ds[1])"
   ]
  },
  {
   "cell_type": "code",
   "execution_count": null,
   "metadata": {},
   "outputs": [],
   "source": [
    "plt.imshow(1-ds[1], cmap='gray', vmin=0, vmax=1)\n",
    "plt.show()"
   ]
  }
 ],
 "metadata": {
  "kernelspec": {
   "display_name": ".venv",
   "language": "python",
   "name": "python3"
  },
  "language_info": {
   "codemirror_mode": {
    "name": "ipython",
    "version": 3
   },
   "file_extension": ".py",
   "mimetype": "text/x-python",
   "name": "python",
   "nbconvert_exporter": "python",
   "pygments_lexer": "ipython3",
   "version": "3.10.6"
  },
  "orig_nbformat": 4
 },
 "nbformat": 4,
 "nbformat_minor": 2
}
